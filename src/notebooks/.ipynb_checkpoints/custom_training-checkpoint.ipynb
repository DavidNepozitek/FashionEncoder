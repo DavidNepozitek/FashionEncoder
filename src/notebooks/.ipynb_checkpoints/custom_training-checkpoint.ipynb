{
 "cells": [
  {
   "cell_type": "code",
   "execution_count": 13,
   "metadata": {
    "collapsed": true,
    "pycharm": {
     "is_executing": false
    }
   },
   "outputs": [
    {
     "name": "stdout",
     "output_type": "stream",
     "text": [
      "tf.Tensor(\n",
      "[[[0.39032602 0.92277133 0.81426954 0.39098895 0.7707672 ]\n",
      "  [0.961391   0.68611944 0.96090627 0.2270981  0.08714056]]\n",
      "\n",
      " [[0.6066085  0.42179513 0.8382646  0.92755497 0.8413242 ]\n",
      "  [0.06656551 0.81848216 0.32843924 0.80440617 0.76714885]]\n",
      "\n",
      " [[0.34609735 0.01212358 0.9130473  0.3772229  0.1977781 ]\n",
      "  [0.05050206 0.10744095 0.8216109  0.6548867  0.84722257]]], shape=(3, 2, 5), dtype=float32)\n",
      "tf.Tensor(\n",
      "[[[0.17847943 0.28226125 0.48585737 0.3288741  0.20823646]\n",
      "  [0.02949333 0.44579375 0.18175149 0.5033165  0.47647   ]]\n",
      "\n",
      " [[0.34805286 0.17438436 0.9393976  0.9314184  0.15360296]\n",
      "  [0.9117788  0.43700075 0.8024396  0.22225165 0.38267517]]\n",
      "\n",
      " [[0.17306447 0.792045   0.71926796 0.09932089 0.35569513]\n",
      "  [0.59993744 0.53679335 0.58621514 0.9703808  0.03281689]]], shape=(3, 2, 5), dtype=float32)\n",
      "tf.Tensor(6.9660645, shape=(), dtype=float32)\n"
     ]
    }
   ],
   "source": [
    "import tensorflow as tf\n",
    "import models.transformer.fashion_encoder as fashion_enc\n",
    "import official.transformer.v2.misc as misc\n",
    "import importlib\n",
    "\n",
    "def parse_example(raw):\n",
    "    example = tf.io.parse_single_sequence_example(\n",
    "          raw, sequence_features= {\n",
    "              \"categories\": tf.io.FixedLenSequenceFeature([], tf.int64),\n",
    "              \"features\": tf.io.FixedLenSequenceFeature(2048,tf.float32)\n",
    "          })\n",
    "    return example[1][\"features\"]\n",
    "\n",
    "def get_dataset():\n",
    "    filenames = [\"output-000-5.tfrecord\"]\n",
    "    raw_dataset = tf.data.TFRecordDataset(filenames)\n",
    "    return raw_dataset.map(parse_example)\n",
    "\n",
    "def loss(y_pred, y_true):\n",
    "    # Dot product for whole batch\n",
    "    res = tf.math.multiply(y_pred, y_true)\n",
    "    res = tf.math.reduce_sum(res)\n",
    "    return res\n"
   ]
  },
  {
   "cell_type": "code",
   "execution_count": 5,
   "metadata": {
    "pycharm": {
     "is_executing": false,
     "name": "#%%\n"
    }
   },
   "outputs": [
    {
     "name": "stdout",
     "output_type": "stream",
     "text": [
      "({}, {'categories': <tf.Tensor: id=68, shape=(7,), dtype=int64, numpy=array([4495,   25,   27,  261,  259, 1967,    2], dtype=int64)>, 'features': <tf.Tensor: id=69, shape=(7, 2048), dtype=float32, numpy=\n",
      "array([[0.00544265, 0.2782234 , 0.01296203, ..., 0.03073396, 0.02102465,\n",
      "        0.60515   ],\n",
      "       [0.10327241, 0.59317654, 0.23712789, ..., 0.5107244 , 0.32906044,\n",
      "        0.2647133 ],\n",
      "       [0.04759569, 0.24221316, 0.03452357, ..., 0.4702158 , 0.04748438,\n",
      "        0.21493322],\n",
      "       ...,\n",
      "       [0.1191927 , 0.5459111 , 0.11253152, ..., 0.12103943, 0.02401951,\n",
      "        0.4204527 ],\n",
      "       [0.80003095, 0.6951431 , 0.6862365 , ..., 0.28535375, 0.02023683,\n",
      "        0.32046562],\n",
      "       [1.0514071 , 0.        , 0.        , ..., 0.04131878, 0.7136081 ,\n",
      "        2.0880868 ]], dtype=float32)>})\n",
      "({}, {'categories': <tf.Tensor: id=95, shape=(7,), dtype=int64, numpy=array([4495,   25,   27,  261,  259, 1967,    2], dtype=int64)>, 'features': <tf.Tensor: id=96, shape=(7, 2048), dtype=float32, numpy=\n",
      "array([[0.00544265, 0.2782234 , 0.01296203, ..., 0.03073396, 0.02102465,\n",
      "        0.60515   ],\n",
      "       [0.10327241, 0.59317654, 0.23712789, ..., 0.5107244 , 0.32906044,\n",
      "        0.2647133 ],\n",
      "       [0.04759569, 0.24221316, 0.03452357, ..., 0.4702158 , 0.04748438,\n",
      "        0.21493322],\n",
      "       ...,\n",
      "       [0.1191927 , 0.5459111 , 0.11253152, ..., 0.12103943, 0.02401951,\n",
      "        0.4204527 ],\n",
      "       [0.80003095, 0.6951431 , 0.6862365 , ..., 0.28535375, 0.02023683,\n",
      "        0.32046562],\n",
      "       [1.0514071 , 0.        , 0.        , ..., 0.04131878, 0.7136081 ,\n",
      "        2.0880868 ]], dtype=float32)>})\n"
     ]
    }
   ],
   "source": [
    "a = tf.random.uniform([3, 2, 5])\n",
    "b = tf.random.uniform([3, 2, 5])\n",
    "\n",
    "print(a)\n",
    "print(b)\n",
    "l = loss(a,b)\n",
    "print(l)"
   ]
  },
  {
   "cell_type": "code",
   "execution_count": null,
   "metadata": {
    "pycharm": {
     "name": "#%%\n"
    }
   },
   "outputs": [],
   "source": [
    "importlib.reload(fashion_enc)\n",
    "\n",
    "params = misc.get_model_params(\"base\", 1)\n",
    "\n",
    "params.update({\n",
    "    \"feature_dim\": 512,\n",
    "    \"dtype\": \"float32\",\n",
    "    \"hidden_size\": 512,\n",
    "    \"extra_decode_length\": 0,\n",
    "    \"num_hidden_layers\": 1,\n",
    "    \"num_heads\": 2,\n",
    "    \"max_length\": 10,\n",
    "    \"default_batch_size\": 128,\n",
    "    \"filter_size\": 1024\n",
    "})\n",
    "\n",
    "model = fashion_enc.create_model(params, False)\n",
    "model.summary()"
   ]
  }
 ],
 "metadata": {
  "kernelspec": {
   "display_name": "Python 3",
   "language": "python",
   "name": "python3"
  },
  "language_info": {
   "codemirror_mode": {
    "name": "ipython",
    "version": 3
   },
   "file_extension": ".py",
   "mimetype": "text/x-python",
   "name": "python",
   "nbconvert_exporter": "python",
   "pygments_lexer": "ipython3",
   "version": "3.7.5"
  },
  "pycharm": {
   "stem_cell": {
    "cell_type": "raw",
    "metadata": {
     "collapsed": false
    },
    "source": []
   }
  }
 },
 "nbformat": 4,
 "nbformat_minor": 1
}
