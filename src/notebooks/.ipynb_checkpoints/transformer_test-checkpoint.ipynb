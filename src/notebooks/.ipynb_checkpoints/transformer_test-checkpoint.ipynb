{
 "cells": [
  {
   "cell_type": "code",
   "execution_count": 1,
   "metadata": {
    "collapsed": true,
    "pycharm": {
     "is_executing": false,
     "name": "#%%\n"
    }
   },
   "outputs": [],
   "source": [
    "import models.transformer.fashion_transformer as fashion_t\n",
    "import models.transformer.fashion_encoder as fashion_enc\n",
    "import official.transformer.v2.misc as misc\n",
    "import importlib\n",
    "import tensorflow as tf"
   ]
  },
  {
   "cell_type": "code",
   "execution_count": 6,
   "metadata": {
    "pycharm": {
     "is_executing": false,
     "name": "#%%\n"
    }
   },
   "outputs": [
    {
     "name": "stdout",
     "output_type": "stream",
     "text": [
      "inputs\n",
      "(None, None, 512)\n",
      "attention_bias\n",
      "(None, 1, 1, None)\n",
      "(None, None, 2, 256)\n",
      "(None, None, 2, 256)\n",
      "(None, 2, None, None)\n",
      "(None, 2, None, None)\n",
      "(None, 2, None, None)\n",
      "(None, None, 2, 256)\n",
      "Model: \"transformer_v2\"\n",
      "_________________________________________________________________\n",
      "Layer (type)                 Output Shape              Param #   \n",
      "=================================================================\n",
      "encoder_stack_3 (EncoderStac (None, None, 512)         2101760   \n",
      "=================================================================\n",
      "Total params: 2,101,760\n",
      "Trainable params: 2,101,760\n",
      "Non-trainable params: 0\n",
      "_________________________________________________________________\n",
      "Model: \"model_3\"\n",
      "_________________________________________________________________\n",
      "Layer (type)                 Output Shape              Param #   \n",
      "=================================================================\n",
      "inputs (InputLayer)          [(None, None, 512)]       0         \n",
      "_________________________________________________________________\n",
      "transformer_v2 (FashionEncod (None, None, 512)         2101760   \n",
      "=================================================================\n",
      "Total params: 2,101,760\n",
      "Trainable params: 2,101,760\n",
      "Non-trainable params: 0\n",
      "_________________________________________________________________\n"
     ]
    }
   ],
   "source": [
    "importlib.reload(fashion_enc)\n",
    "\n",
    "params = misc.get_model_params(\"base\", 1)\n",
    "\n",
    "params.update({\n",
    "    \"feature_dim\": 512,\n",
    "    \"dtype\": \"float32\",\n",
    "    \"hidden_size\": 512,\n",
    "    \"extra_decode_length\": 0,\n",
    "    \"num_hidden_layers\": 1,\n",
    "    \"num_heads\": 2,\n",
    "    \"max_length\": 10,\n",
    "    \"default_batch_size\": 128,\n",
    "    \"filter_size\": 1024\n",
    "})\n",
    "\n",
    "model = fashion_enc.create_model(params, False)\n",
    "model.summary()"
   ]
  },
  {
   "cell_type": "code",
   "execution_count": 7,
   "metadata": {
    "pycharm": {
     "is_executing": false,
     "name": "#%%\n"
    }
   },
   "outputs": [
    {
     "name": "stdout",
     "output_type": "stream",
     "text": [
      "(3, 2, 512)\n",
      "[[[-0.30741808  2.1095817  -1.3241369  ...  0.14180934  0.44700462\n",
      "   -0.25496873]\n",
      "  [-0.9467814   0.36666292 -0.5317905  ... -0.83438563 -0.20885953\n",
      "   -0.16151783]]\n",
      "\n",
      " [[ 0.25281447  2.0123067  -2.5840054  ... -0.37666884  0.5796349\n",
      "    0.5129266 ]\n",
      "  [-1.0048554   2.000043   -0.45980543 ...  0.6220828  -0.06711292\n",
      "   -1.3539809 ]]\n",
      "\n",
      " [[-0.98312217  0.30199707 -0.5504184  ... -0.03231943 -2.3470764\n",
      "   -0.4333794 ]\n",
      "  [ 0.19067931 -0.3270745  -1.4072449  ...  0.1864335   1.0669446\n",
      "   -1.9345934 ]]]\n"
     ]
    }
   ],
   "source": [
    "input_batch = tf.random.uniform(shape=(3,2,512))\n",
    "output = model.predict_on_batch(input_batch)\n",
    "print(output.shape)\n",
    "print(output)"
   ]
  },
  {
   "cell_type": "code",
   "execution_count": null,
   "metadata": {
    "pycharm": {
     "name": "#%%\n"
    }
   },
   "outputs": [],
   "source": [
    "importlib.reload(fashion_t)\n",
    "\n",
    "params = misc.get_model_params(\"base\", 1)\n",
    "\n",
    "params.update({\n",
    "    \"feature_dim\": 256,\n",
    "    \"dtype\": \"float32\",\n",
    "    \"hidden_size\": 256,\n",
    "    \"extra_decode_length\": 0,\n",
    "    \"num_hidden_layers\": 1,\n",
    "    \"num_heads\": 2,\n",
    "    \"max_length\": 10,\n",
    "    \"default_batch_size\": 128,\n",
    "    \"filter_size\": 1024\n",
    "})\n",
    "\n",
    "model = fashion_t.create_model(params, False)\n",
    "model.summary()"
   ]
  },
  {
   "cell_type": "code",
   "execution_count": 4,
   "metadata": {
    "pycharm": {
     "is_executing": false,
     "name": "#%%\n"
    }
   },
   "outputs": [
    {
     "name": "stdout",
     "output_type": "stream",
     "text": [
      "(25, 8, 256)\n",
      "[[[ 0.3721342   0.7154289  -0.06266356 ...  0.7965158  -0.33333158\n",
      "   -0.73048675]\n",
      "  [ 0.3721342   0.7154289  -0.06266356 ...  0.7965158  -0.33333158\n",
      "   -0.73048675]\n",
      "  [ 0.3721342   0.7154289  -0.06266356 ...  0.7965158  -0.33333158\n",
      "   -0.73048675]\n",
      "  ...\n",
      "  [ 0.3721342   0.7154289  -0.06266356 ...  0.7965158  -0.33333158\n",
      "   -0.73048675]\n",
      "  [ 0.3721342   0.7154289  -0.06266356 ...  0.7965158  -0.33333158\n",
      "   -0.73048675]\n",
      "  [ 0.3721342   0.7154289  -0.06266356 ...  0.7965158  -0.33333158\n",
      "   -0.73048675]]\n",
      "\n",
      " [[ 0.80776685  0.04199074 -1.3678492  ...  0.13974936 -1.3057268\n",
      "   -1.5029002 ]\n",
      "  [ 0.80776685  0.04199074 -1.3678492  ...  0.13974936 -1.3057268\n",
      "   -1.5029002 ]\n",
      "  [ 0.80776685  0.04199074 -1.3678492  ...  0.13974936 -1.3057268\n",
      "   -1.5029002 ]\n",
      "  ...\n",
      "  [ 0.80776685  0.04199074 -1.3678492  ...  0.13974936 -1.3057268\n",
      "   -1.5029002 ]\n",
      "  [ 0.80776685  0.04199074 -1.3678492  ...  0.13974936 -1.3057268\n",
      "   -1.5029002 ]\n",
      "  [ 0.80776685  0.04199074 -1.3678492  ...  0.13974936 -1.3057268\n",
      "   -1.5029002 ]]\n",
      "\n",
      " [[ 0.14748147 -0.36441964 -0.27014762 ...  0.7890442  -0.06206196\n",
      "   -1.3667493 ]\n",
      "  [ 0.14748147 -0.36441964 -0.27014762 ...  0.7890442  -0.06206196\n",
      "   -1.3667493 ]\n",
      "  [ 0.14748147 -0.36441964 -0.27014762 ...  0.7890442  -0.06206196\n",
      "   -1.3667493 ]\n",
      "  ...\n",
      "  [ 0.14748147 -0.36441964 -0.27014762 ...  0.7890442  -0.06206196\n",
      "   -1.3667493 ]\n",
      "  [ 0.14748147 -0.36441964 -0.27014762 ...  0.7890442  -0.06206196\n",
      "   -1.3667493 ]\n",
      "  [ 0.14748147 -0.36441964 -0.27014762 ...  0.7890442  -0.06206196\n",
      "   -1.3667493 ]]\n",
      "\n",
      " ...\n",
      "\n",
      " [[ 1.0192876   0.21019636 -0.18677343 ...  0.64026356 -0.37289396\n",
      "   -0.9723649 ]\n",
      "  [ 1.0192876   0.21019636 -0.18677343 ...  0.64026356 -0.37289396\n",
      "   -0.9723649 ]\n",
      "  [ 1.0192876   0.21019636 -0.18677343 ...  0.64026356 -0.37289396\n",
      "   -0.9723649 ]\n",
      "  ...\n",
      "  [ 1.0192876   0.21019636 -0.18677343 ...  0.64026356 -0.37289396\n",
      "   -0.9723649 ]\n",
      "  [ 1.0192876   0.21019636 -0.18677343 ...  0.64026356 -0.37289396\n",
      "   -0.9723649 ]\n",
      "  [ 1.0192876   0.21019636 -0.18677343 ...  0.64026356 -0.37289396\n",
      "   -0.9723649 ]]\n",
      "\n",
      " [[ 1.2259098   0.29313236 -0.3420076  ...  1.1623456  -1.1464028\n",
      "   -1.2901442 ]\n",
      "  [ 1.2259098   0.29313236 -0.3420076  ...  1.1623456  -1.1464028\n",
      "   -1.2901442 ]\n",
      "  [ 1.2259098   0.29313236 -0.3420076  ...  1.1623456  -1.1464028\n",
      "   -1.2901442 ]\n",
      "  ...\n",
      "  [ 1.2259098   0.29313236 -0.3420076  ...  1.1623456  -1.1464028\n",
      "   -1.2901442 ]\n",
      "  [ 1.2259098   0.29313236 -0.3420076  ...  1.1623456  -1.1464028\n",
      "   -1.2901442 ]\n",
      "  [ 1.2259098   0.29313236 -0.3420076  ...  1.1623456  -1.1464028\n",
      "   -1.2901442 ]]\n",
      "\n",
      " [[ 0.9590468  -0.12537736 -0.96861875 ...  0.94336456 -1.4756229\n",
      "   -0.95777786]\n",
      "  [ 0.9590468  -0.12537736 -0.96861875 ...  0.94336456 -1.4756229\n",
      "   -0.95777786]\n",
      "  [ 0.9590468  -0.12537736 -0.96861875 ...  0.94336456 -1.4756229\n",
      "   -0.95777786]\n",
      "  ...\n",
      "  [ 0.9590468  -0.12537736 -0.96861875 ...  0.94336456 -1.4756229\n",
      "   -0.95777786]\n",
      "  [ 0.9590468  -0.12537736 -0.96861875 ...  0.94336456 -1.4756229\n",
      "   -0.95777786]\n",
      "  [ 0.9590468  -0.12537736 -0.96861875 ...  0.94336456 -1.4756229\n",
      "   -0.95777786]]]\n"
     ]
    }
   ],
   "source": [
    "input_batch = tf.random.uniform(shape=(25,8,256))\n",
    "\n",
    "output = model.predict_on_batch(input_batch)\n",
    "\n",
    "print(output.shape)\n",
    "print(output)"
   ]
  },
  {
   "cell_type": "code",
   "execution_count": 11,
   "metadata": {
    "pycharm": {
     "is_executing": false,
     "name": "#%%\n"
    }
   },
   "outputs": [
    {
     "name": "stdout",
     "output_type": "stream",
     "text": [
      "tf.Tensor(\n",
      "[[[1. 2. 3.]\n",
      "  [0. 1. 1.]]\n",
      "\n",
      " [[0. 3. 3.]\n",
      "  [0. 0. 0.]]], shape=(2, 2, 3), dtype=float32)\n",
      "tf.Tensor(\n",
      "[[[False False False]\n",
      "  [ True False False]]\n",
      "\n",
      " [[ True False False]\n",
      "  [ True  True  True]]], shape=(2, 2, 3), dtype=bool)\n",
      "tf.Tensor(\n",
      "[[False False]\n",
      " [False  True]], shape=(2, 2), dtype=bool)\n"
     ]
    }
   ],
   "source": [
    "# Dimension reduction before padding\n",
    "\n",
    "#tensorflow Shape (batch, input_length, feature_dim)\n",
    "test_tensor = tf.constant([1,2,3,0,1,1,0,3,3,0,0,0], shape=(2,2,3), dtype=\"float32\")\n",
    "print(test_tensor)\n",
    "test_tensor = tf.equal(test_tensor,0)\n",
    "print(test_tensor)\n",
    "test_tensor = tf.reduce_all(test_tensor, axis=2)\n",
    "print(test_tensor)"
   ]
  }
 ],
 "metadata": {
  "kernelspec": {
   "display_name": "Python 3",
   "language": "python",
   "name": "python3"
  },
  "language_info": {
   "codemirror_mode": {
    "name": "ipython",
    "version": 3
   },
   "file_extension": ".py",
   "mimetype": "text/x-python",
   "name": "python",
   "nbconvert_exporter": "python",
   "pygments_lexer": "ipython3",
   "version": "3.7.5"
  },
  "pycharm": {
   "stem_cell": {
    "cell_type": "raw",
    "metadata": {
     "collapsed": false
    },
    "source": []
   }
  }
 },
 "nbformat": 4,
 "nbformat_minor": 1
}
