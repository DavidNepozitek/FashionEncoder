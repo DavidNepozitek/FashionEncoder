{
 "cells": [
  {
   "cell_type": "code",
   "execution_count": 40,
   "metadata": {
    "collapsed": true,
    "pycharm": {
     "is_executing": false
    }
   },
   "outputs": [
    {
     "name": "stdout",
     "text": [
      "tf.Tensor(\n",
      "[[[1.        1.        1.       ]\n",
      "  [1.        1.        1.       ]\n",
      "  [1.        1.        1.       ]\n",
      "  ...\n",
      "  [0.9996065 0.9996065 0.9996065]\n",
      "  [1.        1.        1.       ]\n",
      "  [1.        1.        1.       ]]\n",
      "\n",
      " [[1.        1.        1.       ]\n",
      "  [1.        1.        1.       ]\n",
      "  [1.        1.        1.       ]\n",
      "  ...\n",
      "  [0.9996065 0.9996065 0.9996065]\n",
      "  [1.        1.        1.       ]\n",
      "  [1.        1.        1.       ]]\n",
      "\n",
      " [[1.        1.        1.       ]\n",
      "  [1.        1.        1.       ]\n",
      "  [1.        1.        1.       ]\n",
      "  ...\n",
      "  [0.9996065 0.9996065 0.9996065]\n",
      "  [1.        1.        1.       ]\n",
      "  [1.        1.        1.       ]]\n",
      "\n",
      " ...\n",
      "\n",
      " [[1.        1.        1.       ]\n",
      "  [1.        1.        1.       ]\n",
      "  [1.        1.        1.       ]\n",
      "  ...\n",
      "  [0.9996065 0.9996065 0.9996065]\n",
      "  [1.        1.        1.       ]\n",
      "  [1.        1.        1.       ]]\n",
      "\n",
      " [[1.        1.        1.       ]\n",
      "  [1.        1.        1.       ]\n",
      "  [1.        1.        1.       ]\n",
      "  ...\n",
      "  [0.9996065 0.9996065 0.9996065]\n",
      "  [1.        1.        1.       ]\n",
      "  [1.        1.        1.       ]]\n",
      "\n",
      " [[1.        1.        1.       ]\n",
      "  [1.        1.        1.       ]\n",
      "  [1.        1.        1.       ]\n",
      "  ...\n",
      "  [0.9996065 0.9996065 0.9996065]\n",
      "  [1.        1.        1.       ]\n",
      "  [1.        1.        1.       ]]], shape=(299, 299, 3), dtype=float32)\n",
      "smth\n"
     ],
     "output_type": "stream"
    }
   ],
   "source": [
    "import tensorflow as tf\n",
    "from IPython import display\n",
    "import src.data.input_pipeline as input_pipeline\n",
    "\n",
    "tf.config.experimental_run_functions_eagerly(True) \n",
    "\n",
    "# dataset = input_pipeline.get_dataset(\n",
    "#     [r\"D:\\David\\Škola\\outfit-generation\\data\\processed\\tfrecords\\debug-cleaned-raw-000-1.tfrecord\"], \n",
    "#     False)\n",
    "\n",
    "raw_dataset = tf.data.TFRecordDataset([r\"D:\\David\\Škola\\outfit-generation\\data\\processed\\tfrecords\\debug-cleaned-raw-000-1.tfrecord\"])\n",
    "\n",
    "def decode_img(img):\n",
    "    # convert the compressed string to a 3D uint8 tensor\n",
    "    img = tf.image.decode_jpeg(img, channels=3)\n",
    "    return tf.keras.applications.inception_v3.preprocess_input(tf.image.resize(img, [299, 299]))\n",
    "\n",
    "\n",
    "\n",
    "def parse_example_with_images(raw):\n",
    "    example = tf.io.parse_single_sequence_example(\n",
    "        raw, sequence_features={\n",
    "            \"categories\": tf.io.FixedLenSequenceFeature([], tf.int64),\n",
    "            \"images\": tf.io.FixedLenSequenceFeature([], tf.string)\n",
    "        })\n",
    "    \n",
    "    raw_imgs = example[1][\"images\"]\n",
    "    \n",
    "    res = tf.map_fn(decode_img, raw_imgs, dtype=tf.float32)\n",
    "\n",
    "    return res, example[1][\"categories\"]\n",
    "\n",
    "\n",
    "def build():\n",
    "    dataset = raw_dataset.take(1).map(parse_example_with_images)\n",
    "    for item in dataset:\n",
    "        print(item[0][0])\n",
    "        img = tf.keras.preprocessing.image.array_to_img(item[0][0])\n",
    "        img.show()\n",
    "        print(\"smth\")\n",
    "        break\n",
    "\n",
    "build()"
   ]
  }
 ],
 "metadata": {
  "kernelspec": {
   "display_name": "Python 3",
   "language": "python",
   "name": "python3"
  },
  "language_info": {
   "codemirror_mode": {
    "name": "ipython",
    "version": 2
   },
   "file_extension": ".py",
   "mimetype": "text/x-python",
   "name": "python",
   "nbconvert_exporter": "python",
   "pygments_lexer": "ipython2",
   "version": "2.7.6"
  },
  "pycharm": {
   "stem_cell": {
    "cell_type": "raw",
    "source": [],
    "metadata": {
     "collapsed": false
    }
   }
  }
 },
 "nbformat": 4,
 "nbformat_minor": 0
}