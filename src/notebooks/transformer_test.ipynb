{
 "cells": [
  {
   "cell_type": "code",
   "execution_count": 6,
   "metadata": {
    "collapsed": true,
    "pycharm": {
     "is_executing": false,
     "name": "#%%\n"
    }
   },
   "outputs": [
    {
     "name": "stdout",
     "text": [
      "inputs\n",
      "(None, None, 256)\n",
      "attention_bias\n",
      "(None, 1, 1, None)\n",
      "(None, None, 2, 128)\n",
      "(None, None, 2, 128)\n",
      "(None, 2, None, None)\n",
      "(None, 2, None, None)\n",
      "(None, 2, None, None)\n",
      "(None, None, 2, 128)\n",
      "(25, 1, 2, 128)\n",
      "(25, 1, 2, 128)\n",
      "(25, 2, 1, 1)\n",
      "(25, 2, 1, 1)\n",
      "(25, 2, 1, 1)\n",
      "(25, 1, 2, 128)\n",
      "(None, None, 2, 128)\n",
      "(25, 1, 2, 128)\n",
      "(None, 2, 1, None)\n",
      "(None, 2, 1, None)\n",
      "(None, 2, 1, None)\n",
      "(None, None, 2, 128)\n",
      "Model: \"transformer_v2\"\n",
      "_________________________________________________________________\n",
      "Layer (type)                 Output Shape              Param #   \n",
      "=================================================================\n",
      "encoder_stack_4 (EncoderStac (None, None, 256)         789248    \n",
      "_________________________________________________________________\n",
      "decoder_stack_4 (DecoderStac multiple                  1051904   \n",
      "=================================================================\n",
      "Total params: 1,841,152\n",
      "Trainable params: 1,841,152\n",
      "Non-trainable params: 0\n",
      "_________________________________________________________________\n",
      "Model: \"model_4\"\n",
      "_________________________________________________________________\n",
      "Layer (type)                 Output Shape              Param #   \n",
      "=================================================================\n",
      "inputs (InputLayer)          [(None, None, 256)]       0         \n",
      "_________________________________________________________________\n",
      "transformer_v2 (Transformer) (25, 1, 256)              1841152   \n",
      "=================================================================\n",
      "Total params: 1,841,152\n",
      "Trainable params: 1,841,152\n",
      "Non-trainable params: 0\n",
      "_________________________________________________________________\n"
     ],
     "output_type": "stream"
    }
   ],
   "source": [
    "import models.transformer.fashion_transformer as fashion_t\n",
    "import official.transformer.v2.misc as misc\n",
    "import importlib\n",
    "\n",
    "import tensorflow as tf\n",
    "\n",
    "importlib.reload(fashion_t)\n",
    "\n",
    "params = misc.get_model_params(\"base\", 1)\n",
    "\n",
    "params.update({\n",
    "    \"feature_dim\": 256,\n",
    "    \"dtype\": \"float32\",\n",
    "    \"hidden_size\": 256,\n",
    "    \"extra_decode_length\": 0,\n",
    "    \"num_hidden_layers\": 1,\n",
    "    \"num_heads\": 2,\n",
    "    \"max_length\": 10,\n",
    "    \"default_batch_size\": 128,\n",
    "    \"filter_size\": 1024\n",
    "})\n",
    "\n",
    "model = fashion_t.create_model(params, False)\n",
    "model.summary()"
   ]
  },
  {
   "cell_type": "code",
   "execution_count": 12,
   "outputs": [
    {
     "name": "stdout",
     "text": [
      "(25, 1, 256)\n",
      "[[[-0.5820612   1.8437483  -0.41871476 ...  0.1081553  -1.0700114\n",
      "    0.5742912 ]]\n",
      "\n",
      " [[-0.14290895  2.2447252  -0.604621   ...  1.0364529  -0.84680265\n",
      "    0.47821474]]\n",
      "\n",
      " [[-0.5845432   1.9734398  -0.973502   ...  1.0592749  -0.07056158\n",
      "    0.7728396 ]]\n",
      "\n",
      " ...\n",
      "\n",
      " [[-0.88227975  2.3817751  -0.54287994 ...  0.75385416 -0.43158063\n",
      "    0.6333025 ]]\n",
      "\n",
      " [[-0.94250876  1.6431019   0.05301608 ...  0.95952725 -0.5512805\n",
      "    0.28709587]]\n",
      "\n",
      " [[-0.8383326   2.1202738  -0.93100446 ... -0.0190403  -0.8832363\n",
      "    0.38850668]]]\n"
     ],
     "output_type": "stream"
    }
   ],
   "source": [
    "input_batch = tf.random.uniform(shape=(25,8,256))\n",
    "\n",
    "output = model.predict_on_batch(input_batch)\n",
    "\n",
    "print(output.shape)\n",
    "print(output)"
   ],
   "metadata": {
    "collapsed": false,
    "pycharm": {
     "name": "#%%\n",
     "is_executing": false
    }
   }
  },
  {
   "cell_type": "code",
   "execution_count": 11,
   "outputs": [
    {
     "name": "stdout",
     "text": [
      "tf.Tensor(\n",
      "[[[1. 2. 3.]\n",
      "  [0. 1. 1.]]\n",
      "\n",
      " [[0. 3. 3.]\n",
      "  [0. 0. 0.]]], shape=(2, 2, 3), dtype=float32)\n",
      "tf.Tensor(\n",
      "[[[False False False]\n",
      "  [ True False False]]\n",
      "\n",
      " [[ True False False]\n",
      "  [ True  True  True]]], shape=(2, 2, 3), dtype=bool)\n",
      "tf.Tensor(\n",
      "[[False False]\n",
      " [False  True]], shape=(2, 2), dtype=bool)\n"
     ],
     "output_type": "stream"
    }
   ],
   "source": [
    "# Dimension reduction before padding\n",
    "\n",
    "#tensorflow Shape (batch, input_length, feature_dim)\n",
    "test_tensor = tf.constant([1,2,3,0,1,1,0,3,3,0,0,0], shape=(2,2,3), dtype=\"float32\")\n",
    "print(test_tensor)\n",
    "test_tensor = tf.equal(test_tensor,0)\n",
    "print(test_tensor)\n",
    "test_tensor = tf.reduce_all(test_tensor, axis=2)\n",
    "print(test_tensor)"
   ],
   "metadata": {
    "collapsed": false,
    "pycharm": {
     "name": "#%%\n",
     "is_executing": false
    }
   }
  }
 ],
 "metadata": {
  "kernelspec": {
   "display_name": "Python 3",
   "language": "python",
   "name": "python3"
  },
  "language_info": {
   "codemirror_mode": {
    "name": "ipython",
    "version": 2
   },
   "file_extension": ".py",
   "mimetype": "text/x-python",
   "name": "python",
   "nbconvert_exporter": "python",
   "pygments_lexer": "ipython2",
   "version": "2.7.6"
  },
  "pycharm": {
   "stem_cell": {
    "cell_type": "raw",
    "source": [],
    "metadata": {
     "collapsed": false
    }
   }
  }
 },
 "nbformat": 4,
 "nbformat_minor": 0
}