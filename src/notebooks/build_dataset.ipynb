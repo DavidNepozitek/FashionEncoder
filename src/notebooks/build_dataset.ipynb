{
 "cells": [
  {
   "cell_type": "code",
   "execution_count": 1,
   "metadata": {
    "collapsed": true,
    "pycharm": {
     "is_executing": false,
     "name": "#%%\n"
    }
   },
   "outputs": [],
   "source": [
    "from __future__ import absolute_import, division, print_function, unicode_literals\n",
    "from pathlib import Path\n",
    "import tensorflow as tf\n",
    "import json\n",
    "\n",
    "dataset_root = \"D:\\David\\Škola\\RP\\dataset\"\n",
    "\n",
    "dataset_filename = \"valid_no_dup.json\"\n",
    "\n",
    "with open(Path(dataset_root, dataset_filename)) as json_file:\n",
    "    raw_json = json.load(json_file)\n",
    "    \n",
    "    \n",
    "i = 1 \n",
    "\n",
    "def _bytes_feature(value):\n",
    "  \"\"\"Returns a bytes_list from a string / byte.\"\"\"\n",
    "  if isinstance(value, type(tf.constant(0))):\n",
    "    value = value.numpy() # BytesList won't unpack a string from an EagerTensor.\n",
    "  return tf.train.Feature(bytes_list=tf.train.BytesList(value=[value]))\n",
    "\n",
    "def _float_feature(value):\n",
    "  \"\"\"Returns a float_list from a float / double.\"\"\"\n",
    "  return tf.train.Feature(float_list=tf.train.FloatList(value=[value]))\n",
    "\n",
    "def _int64_feature(value):\n",
    "  \"\"\"Returns an int64_list from a bool / enum / int / uint.\"\"\"\n",
    "  return tf.train.Feature(int64_list=tf.train.Int64List(value=[value]))\n",
    "print(\"done\")"
   ]
  },
  {
   "cell_type": "code",
   "execution_count": 2,
   "outputs": [
    {
     "name": "stdout",
     "text": [
      "bytes_list {\n",
      "  value: \"test\"\n",
      "}\n",
      "\n",
      "int64_list {\n",
      "  value: 1\n",
      "}\n",
      "\n"
     ],
     "output_type": "stream"
    }
   ],
   "source": [
    "print(_bytes_feature(b'test'))\n",
    "print(_int64_feature(1))"
   ],
   "metadata": {
    "collapsed": false,
    "pycharm": {
     "name": "#%%\n",
     "is_executing": false
    }
   }
  },
  {
   "cell_type": "code",
   "execution_count": 20,
   "outputs": [
    {
     "name": "stdout",
     "text": [
      "The end\n"
     ],
     "output_type": "stream"
    }
   ],
   "source": [
    "def process_dataset():\n",
    "    examples = []\n",
    "    for outfit in raw_json[:10]:\n",
    "        set_id = int(outfit[\"set_id\"])\n",
    "        images = []\n",
    "        categories = []\n",
    "        \n",
    "        for item in outfit[\"items\"]:\n",
    "            image_path = Path(dataset_root,\"images\", str(set_id), str(item[\"index\"]) + \".jpg\")\n",
    "            with open(image_path, \"rb\") as img_file:\n",
    "                raw_image = img_file.read()\n",
    "            images.append(raw_image)\n",
    "            categories.append(item[\"categoryid\"])\n",
    "            \n",
    "        outfit_features = {\n",
    "            \"categories\": tf.train.FeatureList(feature=[_int64_feature(f) for f in categories]),\n",
    "            \"images\": tf.train.FeatureList(feature=[_bytes_feature(f) for f in images])\n",
    "        }\n",
    "        \n",
    "        feature_lists = tf.train.FeatureLists(feature_list=outfit_features)\n",
    "        \n",
    "        example = tf.train.SequenceExample(feature_lists=feature_lists)\n",
    "        examples.append(example.SerializeToString())\n",
    "        \n",
    "    return examples\n",
    "        \n",
    "\n",
    "examples = process_dataset()\n",
    "with tf.io.TFRecordWriter(\"output.tfrecord\") as writer:\n",
    "  for e in examples:\n",
    "    writer.write(e)\n",
    "\n",
    "print(\"The end\")"
   ],
   "metadata": {
    "collapsed": false,
    "pycharm": {
     "name": "#%%\n",
     "is_executing": false
    }
   }
  },
  {
   "cell_type": "code",
   "execution_count": 21,
   "outputs": [
    {
     "name": "stdout",
     "text": [
      "\n"
     ],
     "output_type": "stream"
    }
   ],
   "source": [
    "filenames = [\"output.tfrecord\"]\n",
    "raw_dataset = tf.data.TFRecordDataset(filenames)\n",
    "\n",
    "for raw_record in raw_dataset.take(1):\n",
    "  example = tf.train.Example()\n",
    "  example.ParseFromString(raw_record.numpy())\n",
    "  print(example)"
   ],
   "metadata": {
    "collapsed": false,
    "pycharm": {
     "name": "#%%\n",
     "is_executing": false
    }
   }
  }
 ],
 "metadata": {
  "kernelspec": {
   "display_name": "Python 3",
   "language": "python",
   "name": "python3"
  },
  "language_info": {
   "codemirror_mode": {
    "name": "ipython",
    "version": 2
   },
   "file_extension": ".py",
   "mimetype": "text/x-python",
   "name": "python",
   "nbconvert_exporter": "python",
   "pygments_lexer": "ipython2",
   "version": "2.7.6"
  },
  "pycharm": {
   "stem_cell": {
    "cell_type": "raw",
    "source": [],
    "metadata": {
     "collapsed": false
    }
   }
  }
 },
 "nbformat": 4,
 "nbformat_minor": 0
}