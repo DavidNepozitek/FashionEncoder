{
 "cells": [
  {
   "cell_type": "code",
   "execution_count": 7,
   "metadata": {
    "collapsed": true,
    "pycharm": {
     "is_executing": false
    }
   },
   "outputs": [
    {
     "name": "stdout",
     "text": [
      "tf.Tensor(\n",
      "[[1]\n",
      " [2]\n",
      " [4]], shape=(3, 1), dtype=int32)\n",
      "tf.Tensor(\n",
      "[[1 1 1 1]\n",
      " [2 2 2 2]\n",
      " [4 4 4 4]], shape=(3, 4), dtype=int32)\n"
     ],
     "output_type": "stream"
    }
   ],
   "source": [
    "import tensorflow as tf\n",
    "\n",
    "def generate_mask_categories(categories, mask_positions):\n",
    "    mask_positions = tf.squeeze(mask_positions, axis=[1])\n",
    "    mask_categories = tf.gather_nd(categories, mask_positions, batch_dims=1)\n",
    "    mask_categories = tf.expand_dims(mask_categories, axis=1)\n",
    "    mask_categories = tf.tile(mask_categories, [1, tf.shape(categories)[1]])\n",
    "    return mask_categories\n",
    "\n",
    "    \n",
    "mask = tf.constant([[[0]], [[2]], [[3]]], dtype=tf.int32)\n",
    "categories = tf.constant([1,2,4,1,4,1,2,3,2,5,1,4], shape=(3,4))\n",
    "\n",
    "generate_mask_categories(categories, mask)\n"
   ]
  }
 ],
 "metadata": {
  "kernelspec": {
   "display_name": "Python 3",
   "language": "python",
   "name": "python3"
  },
  "language_info": {
   "codemirror_mode": {
    "name": "ipython",
    "version": 2
   },
   "file_extension": ".py",
   "mimetype": "text/x-python",
   "name": "python",
   "nbconvert_exporter": "python",
   "pygments_lexer": "ipython2",
   "version": "2.7.6"
  },
  "pycharm": {
   "stem_cell": {
    "cell_type": "raw",
    "source": [],
    "metadata": {
     "collapsed": false
    }
   }
  }
 },
 "nbformat": 4,
 "nbformat_minor": 0
}