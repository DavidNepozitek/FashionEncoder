{
 "cells": [
  {
   "cell_type": "code",
   "execution_count": 60,
   "metadata": {
    "collapsed": true,
    "pycharm": {
     "is_executing": false,
     "name": "#%%\n"
    }
   },
   "outputs": [
    {
     "name": "stdout",
     "text": [
      "tf.Tensor(\n",
      "[[[4]]\n",
      "\n",
      " [[6]]], shape=(2, 1, 1), dtype=int32)\n",
      "tf.Tensor(\n",
      "[[[0]]\n",
      "\n",
      " [[1]]], shape=(2, 1, 1), dtype=int32)\n",
      "tf.Tensor(\n",
      "[[0 4]\n",
      " [1 6]], shape=(2, 2), dtype=int32)\n",
      "tf.Tensor(\n",
      "[[[0.00544265 0.2782234  0.01296203 ... 0.03073396 0.02102465 0.60515   ]\n",
      "  [0.10327241 0.59317654 0.23712789 ... 0.5107244  0.32906044 0.2647133 ]\n",
      "  [0.04759569 0.24221316 0.03452357 ... 0.4702158  0.04748438 0.21493322]\n",
      "  ...\n",
      "  [0.80003095 0.6951431  0.6862365  ... 0.28535375 0.02023683 0.32046562]\n",
      "  [1.0514071  0.         0.         ... 0.04131878 0.7136081  2.0880868 ]\n",
      "  [0.         0.         0.         ... 0.         0.         0.        ]]\n",
      "\n",
      " [[0.10257128 0.05374552 0.2554618  ... 0.4756894  0.22387642 1.6893127 ]\n",
      "  [0.05468541 0.03893444 0.03038425 ... 0.1826662  0.13914062 0.36530462]\n",
      "  [0.02581285 0.28361136 0.4748394  ... 0.407583   0.03706785 0.02978181]\n",
      "  ...\n",
      "  [0.42446607 0.17985591 0.07060237 ... 0.19590387 0.10340778 1.5159997 ]\n",
      "  [0.         0.         0.         ... 0.         0.         0.        ]\n",
      "  [0.04740161 0.18374597 0.1292198  ... 0.07445128 0.5423291  0.7034707 ]]], shape=(2, 8, 2048), dtype=float32)\n"
     ],
     "output_type": "stream"
    }
   ],
   "source": [
    "import random\n",
    "from typing import Tuple\n",
    "import tensorflow as tf\n",
    "\n",
    "# test_tensor = tf.constant([1,2,3,0,1,1,0,3,3,0,0,0], shape=(2,2,3), dtype=\"float32\")\n",
    "# print(test_tensor)\n",
    "# indices = tf.constant([[0,0]])\n",
    "# updates = tf.constant([[9,9,9]], dtype=\"float32\")\n",
    "# test_tensor = tf.tensor_scatter_nd_update(test_tensor,indices,updates)\n",
    "# print(test_tensor)\n",
    "\n",
    "\n",
    "def parse_example(raw):\n",
    "    example = tf.io.parse_single_sequence_example(\n",
    "          raw, sequence_features={\n",
    "              \"categories\": tf.io.FixedLenSequenceFeature([], tf.int64),\n",
    "              \"features\": tf.io.FixedLenSequenceFeature(2048, tf.float32)\n",
    "          })\n",
    "    return example[1][\"features\"], example[1][\"categories\"]\n",
    "\n",
    "\n",
    "def get_dataset(filenames):\n",
    "    raw_dataset = tf.data.TFRecordDataset(filenames)\n",
    "    return raw_dataset.map(parse_example)\n",
    "\n",
    "\n",
    "def append_targets(features, categories, token_pos):\n",
    "    return (features, categories, token_pos), features\n",
    "\n",
    "\n",
    "def add_special_token_positions(features, categories):\n",
    "    seq_length = tf.shape(categories)[0]\n",
    "    random_position = tf.random.uniform((1,), minval=0, maxval=seq_length, dtype=\"int32\")\n",
    "    token_positions = tf.expand_dims(random_position, 0)\n",
    "    return features, categories, token_positions\n",
    "    \n",
    "    \n",
    "def get_training_dataset(filenames, batch_size):\n",
    "    outfits = get_dataset(filenames)\n",
    "    outfits = outfits.map(add_special_token_positions)\n",
    "    outfits = outfits.padded_batch(batch_size, ([None, 2048], [None], [None,1]))\n",
    "    return outfits.map(append_targets)\n",
    "\n",
    "\n",
    "\n",
    "dataset = get_training_dataset([\"output-000-5.tfrecord\"], 2)\n",
    "for x, y in dataset:\n",
    "    zeroes = tf.zeros_like(x[0])\n",
    "    zero_slices = tf.gather_nd(zeroes, x[2], batch_dims=1)\n",
    "    updates = tf.reshape(zero_slices, shape=(-1, 2048))\n",
    "    print(x[2])\n",
    "    r = tf.range(0, limit=tf.shape(x[2])[0], dtype=\"int32\")\n",
    "    r = tf.reshape(r, shape=[r.shape[0], -1, 1])\n",
    "    print(r)\n",
    "    indices = tf.squeeze(tf.concat([r, x[2]], axis=-1))\n",
    "    print(indices)\n",
    "    # indices = tf.constant([[0,1], [1, 6]]) \n",
    "    replaced = tf.tensor_scatter_nd_update(x[0], indices, updates)\n",
    "    print(replaced)\n",
    "    \n",
    "    "
   ]
  }
 ],
 "metadata": {
  "kernelspec": {
   "display_name": "Python 3",
   "language": "python",
   "name": "python3"
  },
  "language_info": {
   "codemirror_mode": {
    "name": "ipython",
    "version": 2
   },
   "file_extension": ".py",
   "mimetype": "text/x-python",
   "name": "python",
   "nbconvert_exporter": "python",
   "pygments_lexer": "ipython2",
   "version": "2.7.6"
  },
  "pycharm": {
   "stem_cell": {
    "cell_type": "raw",
    "source": [],
    "metadata": {
     "collapsed": false
    }
   }
  }
 },
 "nbformat": 4,
 "nbformat_minor": 0
}