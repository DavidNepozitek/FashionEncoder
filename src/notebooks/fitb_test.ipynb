{
 "cells": [
  {
   "cell_type": "code",
   "execution_count": 30,
   "metadata": {
    "collapsed": true,
    "pycharm": {
     "is_executing": false
    }
   },
   "outputs": [
    {
     "name": "stdout",
     "text": [
      "tf.Tensor([0], shape=(1,), dtype=int32)\n",
      "tf.Tensor([1], shape=(1,), dtype=int32)\n",
      "tf.Tensor([[0 1]], shape=(1, 2), dtype=int32)\n",
      "tf.Tensor(1.0, shape=(), dtype=float32)\n"
     ],
     "output_type": "stream"
    }
   ],
   "source": [
    "import json\n",
    "from pathlib import Path\n",
    "import tensorflow as tf\n",
    "import src.data.build_dataset as build_dataset\n",
    "import src.data.input_pipeline as input_pipeline\n",
    "import importlib\n",
    "import src.models.transformer.metrics as metrics\n",
    "\n",
    "importlib.reload(metrics)\n",
    "\n",
    "acc =tf.metrics.CategoricalAccuracy()\n",
    "pred = tf.random.uniform(shape=(1,2,25))\n",
    "true = tf.random.uniform(shape=(1,2,25))\n",
    "pred_pos = tf.constant([[[0]]])\n",
    "true_pos = tf.constant([1])\n",
    "categories = tf.constant([[1,2]])\n",
    "metrics.fitb_acc(pred,true,pred_pos,true_pos, categories, acc)\n",
    "print(acc.result())\n"
   ]
  },
  {
   "cell_type": "code",
   "execution_count": null,
   "outputs": [],
   "source": [
    "file = [r\"D:\\David\\Škola\\outfit-generation\\data\\processed\\tfrecords\\fitb-features.tfrecord\"]\n",
    "importlib.reload(input_pipeline)\n",
    "dataset = input_pipeline.get_fitb_dataset(file, True).take(1)\n",
    "\n",
    "for x in dataset:\n",
    "    inputs, input_categories, targets, target_categories, target_position = x\n",
    "    \n",
    "    print(inputs)\n",
    "    \n",
    "    print(input_categories)"
   ],
   "metadata": {
    "collapsed": false,
    "pycharm": {
     "name": "#%%\n"
    }
   }
  }
 ],
 "metadata": {
  "kernelspec": {
   "display_name": "Python 3",
   "language": "python",
   "name": "python3"
  },
  "language_info": {
   "codemirror_mode": {
    "name": "ipython",
    "version": 2
   },
   "file_extension": ".py",
   "mimetype": "text/x-python",
   "name": "python",
   "nbconvert_exporter": "python",
   "pygments_lexer": "ipython2",
   "version": "2.7.6"
  },
  "pycharm": {
   "stem_cell": {
    "cell_type": "raw",
    "source": [],
    "metadata": {
     "collapsed": false
    }
   }
  }
 },
 "nbformat": 4,
 "nbformat_minor": 0
}