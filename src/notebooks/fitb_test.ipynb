{
 "cells": [
  {
   "cell_type": "code",
   "execution_count": 3,
   "metadata": {
    "collapsed": true,
    "pycharm": {
     "is_executing": false,
     "name": "#%%\n"
    }
   },
   "outputs": [
    {
     "name": "stdout",
     "text": [
      "tf.Tensor([1 1 1 2], shape=(4,), dtype=int64)\n",
      "tf.Tensor([9 9 3 1], shape=(4,), dtype=int64)\n",
      "tf.Tensor([4 7 2 2], shape=(4,), dtype=int64)\n",
      "tf.Tensor([4 1 7 7], shape=(4,), dtype=int64)\n",
      "tf.Tensor([7 8 1 1], shape=(4,), dtype=int64)\n",
      "tf.Tensor([3 9 9 4], shape=(4,), dtype=int64)\n",
      "tf.Tensor([9 3 3 4], shape=(4,), dtype=int64)\n",
      "tf.Tensor([9 7 1 9], shape=(4,), dtype=int64)\n",
      "tf.Tensor([9 4 3 3], shape=(4,), dtype=int64)\n",
      "tf.Tensor([2 6 6 7], shape=(4,), dtype=int64)\n",
      "tf.Tensor([5 4 9 9], shape=(4,), dtype=int64)\n",
      "tf.Tensor([9 5 4 9], shape=(4,), dtype=int64)\n",
      "tf.Tensor([9 5 9 4], shape=(4,), dtype=int64)\n",
      "tf.Tensor([7 4 5 9], shape=(4,), dtype=int64)\n",
      "tf.Tensor([3 4 4 4], shape=(4,), dtype=int64)\n",
      "tf.Tensor([8 1 6 3], shape=(4,), dtype=int64)\n",
      "tf.Tensor([2 3 9 2], shape=(4,), dtype=int64)\n",
      "tf.Tensor([4 9 4 9], shape=(4,), dtype=int64)\n",
      "tf.Tensor([6 6 4 9], shape=(4,), dtype=int64)\n",
      "tf.Tensor([4 6 3 3], shape=(4,), dtype=int64)\n",
      "tf.Tensor([7 1 3 8], shape=(4,), dtype=int64)\n",
      "tf.Tensor([9 2 8 2], shape=(4,), dtype=int64)\n",
      "tf.Tensor([8 9 7 1], shape=(4,), dtype=int64)\n",
      "tf.Tensor([5 9 3 4], shape=(4,), dtype=int64)\n",
      "tf.Tensor([4 2 5 5], shape=(4,), dtype=int64)\n",
      "tf.Tensor([5 3 3 4], shape=(4,), dtype=int64)\n",
      "tf.Tensor([3 3 2 6], shape=(4,), dtype=int64)\n",
      "tf.Tensor([4 4 9 4], shape=(4,), dtype=int64)\n",
      "tf.Tensor([6 9 9 9], shape=(4,), dtype=int64)\n",
      "tf.Tensor([7 1 1 1], shape=(4,), dtype=int64)\n",
      "tf.Tensor([5 9 3 9], shape=(4,), dtype=int64)\n",
      "tf.Tensor([4 2 2 3], shape=(4,), dtype=int64)\n",
      "tf.Tensor([4 3 4 3], shape=(4,), dtype=int64)\n",
      "tf.Tensor([3 9 3 9], shape=(4,), dtype=int64)\n",
      "tf.Tensor([2 1 9 2], shape=(4,), dtype=int64)\n",
      "tf.Tensor([3 4 2 2], shape=(4,), dtype=int64)\n",
      "tf.Tensor([2 1 1 7], shape=(4,), dtype=int64)\n",
      "tf.Tensor([3 9 2 2], shape=(4,), dtype=int64)\n",
      "tf.Tensor([3 9 3 2], shape=(4,), dtype=int64)\n",
      "tf.Tensor([9 2 2 6], shape=(4,), dtype=int64)\n",
      "tf.Tensor([4 9 5 5], shape=(4,), dtype=int64)\n",
      "tf.Tensor([2 3 2 2], shape=(4,), dtype=int64)\n",
      "tf.Tensor([1 5 9 8], shape=(4,), dtype=int64)\n",
      "tf.Tensor([6 3 9 5], shape=(4,), dtype=int64)\n",
      "tf.Tensor([4 5 6 4], shape=(4,), dtype=int64)\n",
      "tf.Tensor([8 9 2 9], shape=(4,), dtype=int64)\n",
      "tf.Tensor([4 5 4 3], shape=(4,), dtype=int64)\n",
      "tf.Tensor([8 4 9 5], shape=(4,), dtype=int64)\n",
      "tf.Tensor([4 3 9 6], shape=(4,), dtype=int64)\n",
      "tf.Tensor([3 2 3 3], shape=(4,), dtype=int64)\n"
     ],
     "output_type": "stream"
    }
   ],
   "source": [
    "import json\n",
    "from pathlib import Path\n",
    "import tensorflow as tf\n",
    "import src.data.build_dataset as build_dataset\n",
    "import src.data.input_pipeline as input_pipeline\n",
    "import importlib\n",
    "import src.models.transformer.metrics as metrics\n",
    "import src.models.transformer.utils as utils\n",
    "\n",
    "# importlib.reload(metrics)\n",
    "\n",
    "# acc =tf.metrics.CategoricalAccuracy()\n",
    "# pred = tf.random.uniform(shape=(1,2,25))\n",
    "# true = tf.random.uniform(shape=(1,2,25))\n",
    "# pred_pos = tf.constant([[[0]]])\n",
    "# true_pos = tf.constant([1])\n",
    "# categories = tf.constant([[1,2]])\n",
    "# metrics.fitb_acc(pred,true,pred_pos,true_pos, categories, acc)\n",
    "# print(acc.result())\n",
    "\n",
    "\n",
    "\n",
    "\n",
    "file = [r\"D:\\David\\Škola\\outfit-generation\\data\\processed\\tfrecords\\fitb-valid-neg.tfrecord\"]\n",
    "importlib.reload(input_pipeline)\n",
    "lookup = utils.build_category_lookup_table()\n",
    "dataset = input_pipeline.get_fitb_dataset(file, True, lookup).take(50)\n",
    "\n",
    "\n",
    "for x in dataset:\n",
    "    inputs, input_categories, targets, target_categories, target_position = x\n",
    "    print(target_categories)"
   ]
  }
 ],
 "metadata": {
  "kernelspec": {
   "display_name": "Python 3",
   "language": "python",
   "name": "python3"
  },
  "language_info": {
   "codemirror_mode": {
    "name": "ipython",
    "version": 2
   },
   "file_extension": ".py",
   "mimetype": "text/x-python",
   "name": "python",
   "nbconvert_exporter": "python",
   "pygments_lexer": "ipython2",
   "version": "2.7.6"
  },
  "pycharm": {
   "stem_cell": {
    "cell_type": "raw",
    "source": [],
    "metadata": {
     "collapsed": false
    }
   }
  }
 },
 "nbformat": 4,
 "nbformat_minor": 0
}