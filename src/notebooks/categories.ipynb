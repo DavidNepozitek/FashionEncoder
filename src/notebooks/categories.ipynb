{
 "cells": [
  {
   "cell_type": "code",
   "execution_count": 14,
   "metadata": {
    "collapsed": true,
    "pycharm": {
     "is_executing": false
    }
   },
   "outputs": [
    {
     "name": "stdout",
     "text": [
      "tf.Tensor([0 1 2 3 4], shape=(5,), dtype=int64)\n",
      "tf.Tensor([1 1 5 1], shape=(4,), dtype=int64)\n",
      "tf.Tensor(0, shape=(), dtype=int64)\n",
      "tf.Tensor([0 8 2 3 5 5 4 4], shape=(8,), dtype=int64)\n",
      "tf.Tensor([4 9 5 5], shape=(4,), dtype=int64)\n",
      "tf.Tensor(0, shape=(), dtype=int64)\n",
      "tf.Tensor([0 1 2 3 5 9], shape=(6,), dtype=int64)\n",
      "tf.Tensor([9 4 1 3], shape=(4,), dtype=int64)\n",
      "tf.Tensor(0, shape=(), dtype=int64)\n",
      "tf.Tensor([0 4 5 5], shape=(4,), dtype=int64)\n",
      "tf.Tensor([9 4 4 5], shape=(4,), dtype=int64)\n",
      "tf.Tensor(0, shape=(), dtype=int64)\n",
      "tf.Tensor([0 1 8 2 4 4 9 9], shape=(8,), dtype=int64)\n",
      "tf.Tensor([3 1 9 3], shape=(4,), dtype=int64)\n",
      "tf.Tensor(0, shape=(), dtype=int64)\n",
      "tf.Tensor([0 1 2 3 9 9], shape=(6,), dtype=int64)\n",
      "tf.Tensor([4 8 4 2], shape=(4,), dtype=int64)\n",
      "tf.Tensor(0, shape=(), dtype=int64)\n",
      "tf.Tensor([0 1 8 4 4 9], shape=(6,), dtype=int64)\n",
      "tf.Tensor([2 1 9 5], shape=(4,), dtype=int64)\n",
      "tf.Tensor(0, shape=(), dtype=int64)\n",
      "tf.Tensor([0 1 2 3 3 4 2], shape=(7,), dtype=int64)\n",
      "tf.Tensor([9 3 3 9], shape=(4,), dtype=int64)\n",
      "tf.Tensor(0, shape=(), dtype=int64)\n",
      "tf.Tensor([0 1 3 5], shape=(4,), dtype=int64)\n",
      "tf.Tensor([3 5 9 3], shape=(4,), dtype=int64)\n",
      "tf.Tensor(0, shape=(), dtype=int64)\n",
      "tf.Tensor([0 6 9 9], shape=(4,), dtype=int64)\n",
      "tf.Tensor([9 3 5 9], shape=(4,), dtype=int64)\n",
      "tf.Tensor(0, shape=(), dtype=int64)\n"
     ],
     "output_type": "stream"
    }
   ],
   "source": [
    "import json\n",
    "from pathlib import Path\n",
    "import tensorflow as tf\n",
    "import src.data.build_dataset as build_dataset\n",
    "import src.data.input_pipeline as input_pipeline\n",
    "import importlib\n",
    "import src.models.transformer.metrics as metrics\n",
    "import src.models.transformer.utils as utils\n",
    "\n",
    "file = [r\"D:\\David\\Škola\\outfit-generation\\data\\processed\\tfrecords\\fitb-features.tfrecord\"]\n",
    "importlib.reload(input_pipeline)\n",
    "importlib.reload(utils)\n",
    "dataset = input_pipeline.get_fitb_dataset(file, True, utils.build_category_lookup_table()).take(10)\n",
    "\n",
    "for x in dataset:\n",
    "    inputs, input_categories, targets, target_categories, target_position = x\n",
    "    \n",
    "    print(input_categories)\n",
    "    print(target_categories)\n",
    "    print(target_position)\n"
   ]
  }
 ],
 "metadata": {
  "kernelspec": {
   "display_name": "Python 3",
   "language": "python",
   "name": "python3"
  },
  "language_info": {
   "codemirror_mode": {
    "name": "ipython",
    "version": 2
   },
   "file_extension": ".py",
   "mimetype": "text/x-python",
   "name": "python",
   "nbconvert_exporter": "python",
   "pygments_lexer": "ipython2",
   "version": "2.7.6"
  },
  "pycharm": {
   "stem_cell": {
    "cell_type": "raw",
    "source": [],
    "metadata": {
     "collapsed": false
    }
   }
  }
 },
 "nbformat": 4,
 "nbformat_minor": 0
}