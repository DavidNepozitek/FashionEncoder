{
 "cells": [
  {
   "cell_type": "code",
   "execution_count": 5,
   "metadata": {
    "collapsed": true,
    "pycharm": {
     "is_executing": false
    }
   },
   "outputs": [
    {
     "name": "stdout",
     "text": [
      "Loaded 17316 items\n",
      "Total 114806 products\n",
      "Total 17316 outfits\n",
      "Loaded 1497 items\n",
      "Total 9070 products\n",
      "Total 1497 outfits\n",
      "Loaded 3076 items\n",
      "Total 18604 products\n",
      "Total 3076 outfits\n",
      "count    21889.000000\n",
      "mean         6.509206\n",
      "std          1.401401\n",
      "min          4.000000\n",
      "25%          5.000000\n",
      "50%          7.000000\n",
      "75%          8.000000\n",
      "max          8.000000\n",
      "dtype: float64\n",
      "Counter({8: 7867, 6: 4028, 7: 3903, 5: 3691, 4: 2400})\n"
     ],
     "output_type": "stream"
    }
   ],
   "source": [
    "import json\n",
    "from collections import Counter\n",
    "from pathlib import Path\n",
    "import pandas as pd\n",
    "\n",
    "dataset_root = \"D:\\David\\Škola\\RP\\dataset\"\n",
    "train_filename = \"train_no_dup.json\"\n",
    "valid_filename = \"valid_no_dup.json\"\n",
    "test_filename = \"test_no_dup.json\"\n",
    "\n",
    "counts = []\n",
    "\n",
    "def process_dataset(dataset_filename):\n",
    "    outfits_disposed = 0\n",
    "    total_items = 0\n",
    "    total_outfits = 0\n",
    "    categories = []\n",
    "    with open(Path(dataset_root, dataset_filename)) as json_file:\n",
    "        raw_json = json.load(json_file)\n",
    "        print(\"Loaded \" + str(len(raw_json)) + \" items\", flush=True)\n",
    "        examples = []\n",
    "        for outfit in raw_json:\n",
    "            images = []\n",
    "            counts.append(len(outfit[\"items\"]))\n",
    "            for item in outfit[\"items\"]:\n",
    "                total_items = total_items + 1\n",
    "                categories.append(item[\"categoryid\"])\n",
    "                images.append(1)\n",
    "            if len(images) < 3:\n",
    "                outfits_disposed = outfits_disposed + 1\n",
    "                continue\n",
    "            \n",
    "            total_outfits = total_outfits + 1\n",
    "\n",
    "\n",
    "    print(\"Total \" + str(total_items) + \" products\")\n",
    "    print(\"Total \" + str(total_outfits) + \" outfits\")\n",
    "    return examples\n",
    "\n",
    "process_dataset(train_filename)\n",
    "process_dataset(valid_filename)\n",
    "process_dataset(test_filename)\n",
    "\n",
    "counter = Counter(counts)\n",
    "series = pd.Series(counts)\n",
    "print(series.describe())\n",
    "print(counter)"
   ]
  },
  {
   "cell_type": "code",
   "execution_count": null,
   "outputs": [],
   "source": [
    "def search_unique_items():\n",
    "    with open(Path(dataset_root, dataset_filename)) as json_file:\n",
    "        raw_json = json.load(json_file)\n",
    "        print(\"Loaded \" + str(len(raw_json)) + \" outfits\", flush=True)\n",
    "        unique_ids = {}\n",
    "        duplicates = {}\n",
    "        total_items = 0\n",
    "        outfits_without_unique = 0\n",
    "        for outfit in raw_json:\n",
    "            for item in outfit[\"items\"]:\n",
    "                total_items = total_items + 1\n",
    "                _, id = item['image'].split('id=')\n",
    "                if id not in unique_ids:\n",
    "                    unique_ids[id] = True\n",
    "                else:\n",
    "                    duplicates[id] = True\n",
    "                    \n",
    "        for outfit in raw_json:\n",
    "            for item in outfit[\"items\"]:\n",
    "                _, id = item['image'].split('id=')\n",
    "                if id in duplicates:\n",
    "                    outfits_without_unique += 1\n",
    "                    \n",
    "        print(\"Total \" + str(total_items))\n",
    "        print(\"Unique \" + str(len(unique_ids)))\n",
    "        print(\"outfits_without_unique \" + str(outfits_without_unique))\n",
    "                    \n",
    "search_unique_items()"
   ],
   "metadata": {
    "collapsed": false,
    "pycharm": {
     "name": "#%%\n"
    }
   }
  }
 ],
 "metadata": {
  "kernelspec": {
   "display_name": "Python 3",
   "language": "python",
   "name": "python3"
  },
  "language_info": {
   "codemirror_mode": {
    "name": "ipython",
    "version": 2
   },
   "file_extension": ".py",
   "mimetype": "text/x-python",
   "name": "python",
   "nbconvert_exporter": "python",
   "pygments_lexer": "ipython2",
   "version": "2.7.6"
  },
  "pycharm": {
   "stem_cell": {
    "cell_type": "raw",
    "source": [],
    "metadata": {
     "collapsed": false
    }
   }
  }
 },
 "nbformat": 4,
 "nbformat_minor": 0
}