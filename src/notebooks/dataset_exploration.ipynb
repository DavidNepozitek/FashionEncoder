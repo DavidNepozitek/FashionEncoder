{
 "cells": [
  {
   "cell_type": "code",
   "execution_count": 1,
   "metadata": {
    "collapsed": true,
    "pycharm": {
     "is_executing": false
    }
   },
   "outputs": [],
   "source": [
    "import json\n",
    "from collections import Counter\n",
    "from pathlib import Path\n",
    "import pandas as pd\n",
    "\n",
    "dataset_root = \"INSERT MARYLAND POLYVORE ROOT\"\n",
    "train_filename = \"train_no_dup.json\"\n",
    "valid_filename = \"valid_no_dup.json\"\n",
    "test_filename = \"test_no_dup.json\"\n",
    "\n",
    "counts = []\n",
    "\n",
    "def process_dataset(dataset_filename):\n",
    "    outfits_disposed = 0\n",
    "    total_items = 0\n",
    "    total_outfits = 0\n",
    "    categories = []\n",
    "    with open(Path(dataset_root, dataset_filename)) as json_file:\n",
    "        raw_json = json.load(json_file)\n",
    "        print(\"Loaded \" + str(len(raw_json)) + \" items\", flush=True)\n",
    "        examples = []\n",
    "        for outfit in raw_json:\n",
    "            images = []\n",
    "            counts.append(len(outfit[\"items\"]))\n",
    "            for item in outfit[\"items\"]:\n",
    "                total_items = total_items + 1\n",
    "                categories.append(item[\"categoryid\"])\n",
    "                images.append(1)\n",
    "            if len(images) < 3:\n",
    "                outfits_disposed = outfits_disposed + 1\n",
    "                continue\n",
    "            \n",
    "            total_outfits = total_outfits + 1\n",
    "\n",
    "\n",
    "    print(\"Total \" + str(total_items) + \" products\")\n",
    "    print(\"Total \" + str(total_outfits) + \" outfits\")\n",
    "    return examples\n",
    "\n",
    "process_dataset(train_filename)\n",
    "process_dataset(valid_filename)\n",
    "process_dataset(test_filename)\n",
    "\n",
    "counter = Counter(counts)\n",
    "series = pd.Series(counts)\n",
    "print(series.describe())\n",
    "print(counter)"
   ]
  },
  {
   "cell_type": "code",
   "execution_count": 2,
   "outputs": [
    {
     "name": "stdout",
     "text": [
      "Loaded 1497 items\n",
      "Total 9070 products\n",
      "Total 1497 outfits\n"
     ],
     "output_type": "stream"
    }
   ],
   "source": [
    "import random\n",
    "import json\n",
    "\n",
    "\n",
    "def create_FITB(dataset_filename):\n",
    "    total_items = 0\n",
    "    total_outfits = 0\n",
    "    samples = []\n",
    "    with open(Path(dataset_root, dataset_filename)) as json_file:\n",
    "        raw_json = json.load(json_file)\n",
    "        print(\"Loaded \" + str(len(raw_json)) + \" items\", flush=True)\n",
    "        \n",
    "        for outfit in raw_json:\n",
    "            sample = {\n",
    "                \"question\" : [],\n",
    "                \"answers\" : []\n",
    "            }\n",
    "            \n",
    "            for item in outfit[\"items\"]:\n",
    "                total_items = total_items + 1\n",
    "                sample[\"question\"].append(outfit[\"set_id\"] + \"_\" + str(item[\"index\"]))\n",
    "            \n",
    "            # Draw random item form the outfit and put it to questions\n",
    "            sample[\"blank_position\"] = random.randint(1, len(sample[\"question\"]))\n",
    "            sample[\"answers\"].append(sample[\"question\"][sample[\"blank_position\"] - 1])\n",
    "            sample[\"question\"].remove(sample[\"question\"][sample[\"blank_position\"] - 1])\n",
    "            \n",
    "            # Add 3 more answers\n",
    "            for i in range(3):\n",
    "                r_outfit = random.choice(raw_json)\n",
    "                while r_outfit[\"set_id\"] == outfit[\"set_id\"]:\n",
    "                    r_outfit = random.choice(raw_json)\n",
    "                r_item = random.choice(r_outfit[\"items\"])\n",
    "                sample[\"answers\"].append(r_outfit[\"set_id\"] + \"_\" + str(r_item[\"index\"]))\n",
    "            \n",
    "            total_outfits = total_outfits + 1\n",
    "            samples.append(sample)\n",
    "            \n",
    "    with open('fill_in_blank_valid.json', 'w') as outfile:\n",
    "        json.dump(samples, outfile)\n",
    "    print(\"Total \" + str(total_items) + \" products\")\n",
    "    print(\"Total \" + str(total_outfits) + \" outfits\")\n",
    "\n",
    "# create_FITB(\"valid_no_dup.json\")"
   ],
   "metadata": {
    "collapsed": false,
    "pycharm": {
     "name": "#%%\n",
     "is_executing": false
    }
   }
  },
  {
   "cell_type": "code",
   "execution_count": null,
   "outputs": [],
   "source": [
    "def search_unique_items(dataset_filename):\n",
    "    with open(Path(dataset_root, dataset_filename)) as json_file:\n",
    "        raw_json = json.load(json_file)\n",
    "        print(\"Loaded \" + str(len(raw_json)) + \" outfits\", flush=True)\n",
    "        unique_ids = {}\n",
    "        duplicates = {}\n",
    "        total_items = 0\n",
    "        outfits_without_unique = 0\n",
    "        for outfit in raw_json:\n",
    "            for item in outfit[\"items\"]:\n",
    "                total_items = total_items + 1\n",
    "                _, id = item['image'].split('id=')\n",
    "                if id not in unique_ids:\n",
    "                    unique_ids[id] = True\n",
    "                else:\n",
    "                    duplicates[id] = True\n",
    "                    \n",
    "        for outfit in raw_json:\n",
    "            for item in outfit[\"items\"]:\n",
    "                _, id = item['image'].split('id=')\n",
    "                if id in duplicates:\n",
    "                    outfits_without_unique += 1\n",
    "                    \n",
    "        print(\"Total \" + str(total_items))\n",
    "        print(\"Unique \" + str(len(unique_ids)))\n",
    "        print(\"outfits_without_unique \" + str(outfits_without_unique))"
   ],
   "metadata": {
    "collapsed": false,
    "pycharm": {
     "name": "#%%\n"
    }
   }
  }
 ],
 "metadata": {
  "kernelspec": {
   "display_name": "Python 3",
   "language": "python",
   "name": "python3"
  },
  "language_info": {
   "codemirror_mode": {
    "name": "ipython",
    "version": 2
   },
   "file_extension": ".py",
   "mimetype": "text/x-python",
   "name": "python",
   "nbconvert_exporter": "python",
   "pygments_lexer": "ipython2",
   "version": "2.7.6"
  },
  "pycharm": {
   "stem_cell": {
    "cell_type": "raw",
    "source": [],
    "metadata": {
     "collapsed": false
    }
   }
  }
 },
 "nbformat": 4,
 "nbformat_minor": 0
}