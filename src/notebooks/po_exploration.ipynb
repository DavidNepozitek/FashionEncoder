{
 "cells": [
  {
   "cell_type": "code",
   "execution_count": 2,
   "outputs": [
    {
     "name": "stdout",
     "text": [
      "Total 12 groups.\n",
      "Total 224 categories.\n"
     ],
     "output_type": "stream"
    }
   ],
   "source": [
    "import csv\n",
    "import json\n",
    "from collections import Counter\n",
    "from pathlib import Path\n",
    "import pandas as pd\n",
    "import numpy as np\n",
    "\n",
    "cat_file = r\"PATH TO CATEGORY FILE\"\n",
    "\n",
    "\n",
    "# Load categories\n",
    "with open(cat_file) as categories:\n",
    "    csv_reader = csv.reader(categories, delimiter=',')\n",
    "    line_count = 0\n",
    "    cat_groups = []\n",
    "    cat_dict = {}\n",
    "    for row in csv_reader:\n",
    "            cat_number, cat, cat_group = row\n",
    "            if cat_group.strip() not in cat_groups:\n",
    "                cat_groups.append(cat_group.strip())\n",
    "                \n",
    "            cat_dict[int(cat_number)] = cat_group.strip()\n",
    "                \n",
    "            line_count += 1\n",
    "        \n",
    "    print(f'Total {len(cat_groups)} groups.')\n",
    "    print(f'Total {line_count} categories.')"
   ],
   "metadata": {
    "collapsed": false,
    "pycharm": {
     "name": "#%%\n",
     "is_executing": false
    }
   }
  },
  {
   "cell_type": "code",
   "execution_count": 5,
   "outputs": [
    {
     "name": "stdout",
     "text": [
      "Loaded 10000 outfits from D:\\David\\Škola\\RP\\dataset\\polyvore_outfits\\nondisjoint\\test.json\n",
      "count    10000.000000\n",
      "mean         5.350600\n",
      "std          1.624729\n",
      "min          2.000000\n",
      "25%          4.000000\n",
      "50%          5.000000\n",
      "75%          6.000000\n",
      "max         17.000000\n",
      "dtype: float64\n",
      "{2: 174, 3: 917, 4: 2036, 5: 2656, 6: 2078, 7: 1199, 8: 585, 9: 200, 10: 99, 11: 36, 12: 10, 13: 7, 14: 2, 17: 1}\n",
      "Loaded 47854 items from D:\\David\\Škola\\RP\\dataset\\polyvore_outfits\\nondisjoint\\test.json\n",
      "Counter({'shoes': 9613, 'jewellery': 8896, 'bags': 8694, 'tops': 6669, 'bottoms': 6134, 'outerwear': 3467, 'all-body': 3451, 'sunglasses': 2906, 'hats': 1401, 'accessories': 1361, 'scarves': 914})\n",
      "The metadata contains 251008 items\n",
      "The metadata contains 153 categories\n"
     ],
     "output_type": "stream"
    }
   ],
   "source": [
    "dataset_path_train = r\"PATH TO train.json\"\n",
    "dataset_path_valid = r\"PATH TO valid.json\"\n",
    "dataset_path_test = r\"PATH TO test.json\"\n",
    "dataset_root = r\"PATH TO polyvore_outfits/ folder\"\n",
    "\n",
    "# Load metadata\n",
    "with open(Path(dataset_root, \"polyvore_item_metadata.json\")) as json_file:\n",
    "    metadata = json.load(json_file)\n",
    "    \n",
    "compositions = []\n",
    "\n",
    "# Get sets of outfits, items and item counts\n",
    "def get_sets(dataset_path):\n",
    "    item_counts = []\n",
    "    with open(dataset_path) as json_file:\n",
    "        raw_json = json.load(json_file)\n",
    "        print(\"Loaded \" + str(len(raw_json)) + \" outfits from \" + dataset_path, flush=True)\n",
    "        items_set = set()\n",
    "        outfits_set = set()\n",
    "\n",
    "        # Load all test items into dict\n",
    "        for outfit in raw_json:\n",
    "            compositions.extend([metadata[item[\"item_id\"]][\"semantic_category\"] for item in outfit[\"items\"]])\n",
    "            set_id = int(outfit[\"set_id\"])\n",
    "            outfits_set.add(set_id)\n",
    "            item_counts.append(len(outfit[\"items\"]))\n",
    "            for item in outfit[\"items\"]:\n",
    "                items_set.add(item[\"item_id\"])\n",
    "    \n",
    "    series = pd.Series(item_counts)\n",
    "    print(series.describe())\n",
    "    bcounts = np.bincount(item_counts)\n",
    "    print(dict(zip(np.unique(item_counts), bcounts[bcounts.nonzero()])))\n",
    "    \n",
    "    print(\"Loaded \" + str(len(items_set)) + \" items from \" + dataset_path, flush=True)\n",
    "    return outfits_set, items_set, item_counts\n",
    "            \n",
    "train_o, train_i, train_counts = get_sets(dataset_path_train)\n",
    "valid_o, valid_i, valid_counts = get_sets(dataset_path_valid)\n",
    "test_o, test_i, test_counts = get_sets(dataset_path_test)\n",
    "\n",
    "total_o = train_o.union(valid_o).union(test_o)\n",
    "total_counts = train_counts\n",
    "total_counts.extend(valid_counts)\n",
    "total_counts.extend(test_counts)\n",
    "\n",
    "outfits_count = len(total_o)\n",
    "counter = Counter(compositions)\n",
    "print(counter)\n",
    "for cat in counter:\n",
    "    counter[cat] = counter[cat] / outfits_count\n",
    "print(counter)\n",
    "\n",
    "total_i = train_i.union(valid_i).union(test_i)\n",
    "print(\"The dataset contains \" + str(len(total_o)) + \" outfits\")\n",
    "print(\"The dataset contains \" + str(len(total_i)) + \" items\")\n",
    "print(\"The metadata contains \" + str(len(metadata)) + \" items\")\n",
    "\n",
    "categories = set()\n",
    "\n",
    "for item in metadata.values():\n",
    "    categories.add(int(item[\"category_id\"]))\n",
    "print(\"The metadata contains \" + str(len(categories)) + \" categories\")"
   ],
   "metadata": {
    "collapsed": false,
    "pycharm": {
     "name": "#%%\n",
     "is_executing": false
    }
   }
  },
  {
   "cell_type": "code",
   "execution_count": null,
   "outputs": [],
   "source": [],
   "metadata": {
    "collapsed": false,
    "pycharm": {
     "name": "#%%"
    }
   }
  }
 ],
 "metadata": {
  "kernelspec": {
   "name": "python3",
   "language": "python",
   "display_name": "Python 3"
  },
  "language_info": {
   "codemirror_mode": {
    "name": "ipython",
    "version": 2
   },
   "file_extension": ".py",
   "mimetype": "text/x-python",
   "name": "python",
   "nbconvert_exporter": "python",
   "pygments_lexer": "ipython2",
   "version": "2.7.6"
  },
  "pycharm": {
   "stem_cell": {
    "cell_type": "raw",
    "source": [],
    "metadata": {
     "collapsed": false
    }
   }
  }
 },
 "nbformat": 4,
 "nbformat_minor": 0
}