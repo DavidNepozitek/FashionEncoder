{
 "cells": [
  {
   "cell_type": "code",
   "execution_count": 9,
   "metadata": {
    "collapsed": true,
    "pycharm": {
     "is_executing": false,
     "name": "#%%\n"
    }
   },
   "outputs": [
    {
     "name": "stdout",
     "text": [
      "Total 12 groups.\n",
      "Total 224 categories.\n"
     ],
     "output_type": "stream"
    }
   ],
   "source": [
    "import argparse\n",
    "import csv\n",
    "import json\n",
    "import sys\n",
    "from pathlib import Path\n",
    "import tensorflow as tf\n",
    "import numpy as np\n",
    "\n",
    "cat_file = r\"D:\\David\\Škola\\RP\\dataset\\polyvore_outfits\\categories.csv\"\n",
    "\n",
    "with open(cat_file) as categories:\n",
    "    csv_reader = csv.reader(categories, delimiter=',')\n",
    "    line_count = 0\n",
    "    cat_groups = []\n",
    "    cat_dict = {}\n",
    "    for row in csv_reader:\n",
    "            cat_number, cat, cat_group = row\n",
    "            if cat_group.strip() not in cat_groups:\n",
    "                cat_groups.append(cat_group.strip())\n",
    "                \n",
    "            cat_dict[int(cat_number)] = cat_group.strip()\n",
    "                \n",
    "            line_count += 1\n",
    "        \n",
    "    print(f'Total {len(cat_groups)} groups.')\n",
    "    print(f'Total {line_count} categories.')"
   ]
  },
  {
   "cell_type": "code",
   "execution_count": null,
   "outputs": [],
   "source": [
    "dataset_path = r\"D:\\David\\Škola\\RP\\dataset\\polyvore_outfits\\disjoint\\test.json\"\n",
    "fitb_filepath = r\"D:\\David\\Škola\\RP\\dataset\\polyvore_outfits\\disjoint\\fill_in_blank_test.json\"\n",
    "dataset_root = r\"D:\\David\\Škola\\RP\\dataset\\polyvore_outfits\"\n",
    "\n",
    "def key_from_fitb_string(string):\n",
    "    values = string.split(\"_\")\n",
    "    return int(values[0]), int(values[1])\n",
    "\n",
    "with open(Path(dataset_root, \"polyvore_item_metadata.json\")) as json_file:\n",
    "    metadata = json.load(json_file)\n",
    "\n",
    "with open(dataset_path) as json_file:\n",
    "    raw_json = json.load(json_file)\n",
    "    print(\"Loaded \" + str(len(raw_json)) + \" items\", flush=True)\n",
    "    items = {}\n",
    "\n",
    "    # Load all test items into dict\n",
    "    for outfit in raw_json:\n",
    "        set_id = int(outfit[\"set_id\"])\n",
    "\n",
    "        for item in outfit[\"items\"]:\n",
    "            items.update({(set_id, item[\"index\"]): cat_dict[int(metadata[item[\"item_id\"]][\"category_id\"])]})\n",
    "\n",
    "examples = []\n",
    "with open(fitb_filepath) as fitb_file:\n",
    "    raw_json = json.load(fitb_file)\n",
    "    print(\"Loaded \" + str(len(raw_json)) + \" questions\", flush=True)\n",
    "\n",
    "    # Compose questions from FITB file and test items dict\n",
    "    for task in raw_json:\n",
    "        set_id = None\n",
    "        inputs = []\n",
    "        input_categories = []\n",
    "        targets = []\n",
    "        target_categories = []\n",
    "        target_pos = None\n",
    "\n",
    "        for question_item_str in task[\"question\"]:\n",
    "            q_key = key_from_fitb_string(question_item_str)\n",
    "            item_category = items[q_key]\n",
    "            input_categories.append(item_category)\n",
    "            set_id = q_key[0]\n",
    "        pos = 0\n",
    "\n",
    "        for question_item_str in task[\"answers\"]:\n",
    "            q_key = key_from_fitb_string(question_item_str)\n",
    "            if q_key[0] == set_id:\n",
    "                target_pos = pos\n",
    "            item_category = items[q_key]\n",
    "            target_categories.append(item_category)\n",
    "            pos += 1\n",
    "        \n",
    "        if len(set(target_categories)) > 1:\n",
    "            print(set_id)\n",
    "            print(target_categories)\n",
    "        "
   ],
   "metadata": {
    "collapsed": false,
    "pycharm": {
     "name": "#%%\n"
    }
   }
  }
 ],
 "metadata": {
  "kernelspec": {
   "display_name": "Python 3",
   "language": "python",
   "name": "python3"
  },
  "language_info": {
   "codemirror_mode": {
    "name": "ipython",
    "version": 2
   },
   "file_extension": ".py",
   "mimetype": "text/x-python",
   "name": "python",
   "nbconvert_exporter": "python",
   "pygments_lexer": "ipython2",
   "version": "2.7.6"
  },
  "pycharm": {
   "stem_cell": {
    "cell_type": "raw",
    "source": [],
    "metadata": {
     "collapsed": false
    }
   }
  }
 },
 "nbformat": 4,
 "nbformat_minor": 0
}